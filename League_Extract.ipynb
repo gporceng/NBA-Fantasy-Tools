{
 "cells": [
  {
   "cell_type": "markdown",
   "id": "9885cd6a",
   "metadata": {},
   "source": [
    "<H1>League Extract</H1>\n",
    "<p>Extract league data to xlsx</p>"
   ]
  },
  {
   "cell_type": "code",
   "execution_count": 5,
   "id": "3f156b2e",
   "metadata": {},
   "outputs": [],
   "source": [
    "import ipywidgets as widgets\n",
    "from IPython.display import display\n",
    "from espn_api.basketball import League\n",
    "import matplotlib.pyplot as plt\n",
    "league = League(league_id=509828671, year=2024, espn_s2='ESPN_S2',swid='{SWID}')\n",
    "teams = league.teams"
   ]
  },
  {
   "cell_type": "code",
   "execution_count": 6,
   "id": "c2aa6be2",
   "metadata": {},
   "outputs": [],
   "source": [
    "#Create dictionary\n",
    "def create_dictionary(league):\n",
    "    team_scores = {}\n",
    "    for team in league.teams:\n",
    "        team_scores[team.team_name] = {'PTS': [], 'BLK': [], 'STL': [], 'AST': [], 'REB': [], 'TO': [], 'FGM': [], 'FGA': [], 'FTM': [], 'FTA': [], '3PTM': [], 'FG%': [], 'FT%': []}\n",
    "    \n",
    "    for week in range(0,7):\n",
    "        box = league.box_scores(week)\n",
    "        for score in box:\n",
    "            # Home team stats\n",
    "            home_team_name = score.home_team.team_name\n",
    "            for home_stat in team_scores[home_team_name]:\n",
    "                team_scores[home_team_name][home_stat].append(score.home_stats[home_stat]['value'])\n",
    "                # Away team stats\n",
    "            away_team_name = score.away_team.team_name\n",
    "            for away_stat in team_scores[away_team_name]:\n",
    "                team_scores[away_team_name][away_stat].append(score.home_stats[away_stat]['value'])\n",
    "\n",
    "    \n",
    "    return team_scores"
   ]
  },
  {
   "cell_type": "code",
   "execution_count": 7,
   "id": "212790ae",
   "metadata": {},
   "outputs": [],
   "source": [
    "#Uncomment the below command to laod library once, then commment it out\n",
    "league_dictionary = create_dictionary(league)"
   ]
  },
  {
   "cell_type": "code",
   "execution_count": 9,
   "id": "6747ffcb",
   "metadata": {},
   "outputs": [],
   "source": [
    "import pandas as pd\n",
    "\n",
    "# Assuming 'team_stat_totals' is your dictionary\n",
    "df = pd.DataFrame.from_dict(league_dictionary, orient='index')\n",
    "df.to_excel('league_extract.xlsx', sheet_name='Stats')"
   ]
  }
 ],
 "metadata": {
  "kernelspec": {
   "display_name": "Python 3",
   "language": "python",
   "name": "python3"
  },
  "language_info": {
   "codemirror_mode": {
    "name": "ipython",
    "version": 3
   },
   "file_extension": ".py",
   "mimetype": "text/x-python",
   "name": "python",
   "nbconvert_exporter": "python",
   "pygments_lexer": "ipython3",
   "version": "3.8.8"
  }
 },
 "nbformat": 4,
 "nbformat_minor": 5
}
